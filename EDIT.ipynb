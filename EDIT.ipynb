{
 "cells": [
  {
   "cell_type": "markdown",
   "metadata": {},
   "source": [
    "# 02: BINS - Binary Search\n",
    "\n",
    "Binary search is the ultimate divide-and-conquer algorithm. To find a key k in a large file containing keys A[1..n] in sorted order, we first compare k with A[n/2], and depending on the result we recurse either on the first half of the file, A[1..n/2], or on the second half, A[n/2+1..n]. The recurrence now is T(n)=T(n/2)+O(1). Plugging into the master theorem (with a=1,b=2,d=0) we get the familiar solution: a running time of just O(logn)."
   ]
  },
  {
   "cell_type": "markdown",
   "metadata": {},
   "source": [
    "### Problem\n",
    "\n",
    "The problem is to find a given set of keys in a given array.\n",
    "\n",
    "- Given: Two positive integers n≤105 and m≤105, a sorted array A[1..n] of integers from −105 to 105 and a list of m integers −105 ≤k1,k2,…,km≤105.\n",
    "\n",
    "- Return: For each ki, output an index 1≤j≤n s.t. A[j]=ki or \"-1\" if there is no such index."
   ]
  },
  {
   "cell_type": "markdown",
   "metadata": {},
   "source": [
    "### Sample Dataset\n",
    "```\n",
    "5\n",
    "6\n",
    "10 20 30 40 50\n",
    "40 10 35 15 40 20\n",
    "```\n",
    "\n",
    "### Sample Output\n",
    "```\n",
    "4 1 -1 -1 4 2\n",
    "```"
   ]
  },
  {
   "cell_type": "code",
   "execution_count": 29,
   "metadata": {},
   "outputs": [],
   "source": [
    "with open('data/rosalind_bins.txt') as fh:\n",
    "    n, m = (int(fh.readline().strip()) for _ in range(2))\n",
    "    A = list(map(int, fh.readline().strip().split()))\n",
    "    k = list(map(int, fh.readline().strip().split()))\n",
    "\n",
    "\n",
    "\n",
    "def binarySearch(array,search, start_index = None, end_index = None):\n",
    "    start_index = 0 if start_index is None else start_index\n",
    "    end_index = len(array)-1 if end_index is None else end_index\n",
    "\n",
    "    if end_index < start_index:\n",
    "        return -1\n",
    "    else:\n",
    "        mid_index = (start_index + end_index)// 2\n",
    "\n",
    "        if array[mid_index] > search:\n",
    "            return binarySearch(array, search, start_index, mid_index - 1)\n",
    "        elif array[mid_index] < search:\n",
    "            return binarySearch(array, search, mid_index + 1, end_index)\n",
    "        else:\n",
    "            return mid_index + 1\n",
    "\n",
    "\n",
    "indexes = [str(binarySearch(A, search)) for search in k]\n",
    "\n",
    "\n",
    "with open('out/rosalin_bins.txt', 'w') as fh:\n",
    "        fh.write(' '.join(indexes))"
   ]
  },
  {
   "cell_type": "code",
   "execution_count": null,
   "metadata": {},
   "outputs": [],
   "source": [
    ")"
   ]
  }
 ],
 "metadata": {
  "interpreter": {
   "hash": "779d32e33bbdd4b0f11414551ecd4e05fdefdab11a22ed998b2665b85200c83e"
  },
  "kernelspec": {
   "display_name": "Python 3.9.7 ('base')",
   "language": "python",
   "name": "python3"
  },
  "language_info": {
   "codemirror_mode": {
    "name": "ipython",
    "version": 3
   },
   "file_extension": ".py",
   "mimetype": "text/x-python",
   "name": "python",
   "nbconvert_exporter": "python",
   "pygments_lexer": "ipython3",
   "version": "3.9.7"
  },
  "orig_nbformat": 4
 },
 "nbformat": 4,
 "nbformat_minor": 2
}
