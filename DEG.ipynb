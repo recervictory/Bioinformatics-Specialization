{
 "cells": [
  {
   "cell_type": "markdown",
   "metadata": {},
   "source": [
    "# 03: DEG - Degree Array\n",
    "\n",
    "#### Why graphs?\n",
    "\n",
    "A wide range of problems can be expressed with clarity and precision in the concise pictorial language of graphs. For instance, consider the task of coloring a political map. What is the minimum number of colors needed, with the obvious restriction that neighboring countries should have different colors? One of the difficulties in attacking this problem is that the map itself, even a stripped-down version like Figure 1, is usually cluttered with irrelevant information: intricate boundaries, border posts where three or more countries meet, open seas, and meandering rivers. Such distractions are absent from the mathematical object of Figure 2, a graph with one vertex for each country (1 is Brazil, 11 is Argentina) and edges between neighbors. It contains exactly the information needed for coloring, and nothing more. The precise goal is now to assign a color to each vertex so that no edge has endpoints of the same color.\n",
    "\n",
    "Graph coloring is not the exclusive domain of map designers. Suppose a university needs to schedule examinations for all its classes and wants to use the fewest time slots possible. The only constraint is that two exams cannot be scheduled concurrently if some student will be taking both of them. To express this problem as a graph, use one vertex for each exam and put an edge between two vertices if there is a conflict, that is, if there is somebody taking both endpoint exams. Think of each time slot as having its own color. Then, assigning time slots is exactly the same as coloring this graph!\n",
    "\n",
    "Formally, a graph is specified by a set of vertices (also called nodes) V and by edges E between select pairs of vertices. In the map example, V={1,2,3,…,13} and E includes, among many other edges, {1,2}, {9,11}, and {7,13}. Here an edge between x and y specifically means “x shares a border with y.” This is a symmetric relation—it implies also that y shares a border with x—and we denote it using set notation, e={x,y}. Such edges are undirected and are part of an undirected graph.\n",
    "\n",
    "Sometimes graphs depict relations that do not have this reciprocity, in which case it is necessary to use edges with directions on them. There can be directed edges e from x to y (written e=(x,y)), or from y to x (written (y,x)), or both. A particularly enormous example of a directed graph is the graph of all links in the World Wide Web. It has a vertex for each site on the Internet, and a directed edge (u,v) whenever site u has a link to site v: in total, billions of nodes and edges! Understanding even the most basic connectivity properties of the Web is of great economic and social interest. Although the size of this problem is daunting, we will soon see that a lot of valuable information about the structure of a graph can, happily, be determined in just linear time."
   ]
  },
  {
   "cell_type": "markdown",
   "metadata": {},
   "source": [
    "### Problem\n",
    "\n",
    "In an undirected graph, the degree d(u) of a vertex u is the number of neighbors u has, or equivalently, the number of edges incident upon it.\n",
    "\n",
    "- Given: A `simple graph` with n≤103 vertices in the `edge list` format.\n",
    "- Return: An array D[1..n] where D[i] is the degree of vertex i.\n",
    "\n",
    "\n",
    "#### Simple Graph: \n",
    "As opposed to a multigraph, a simple graph is an undirected graph that has no loops and no more than one edge between any two different vertices. In a simple graph the edges of the graph form a set (rather than a multiset) and each edge is a distinct pair of vertices. In a simple graph with n vertices every vertex has a degree that is less than n (the converse, however, is not true — there exist non-simple graphs with n vertices in which every vertex has a degree smaller than n).\n",
    "\n",
    "####  Edge List Format\n",
    "\n",
    "The first line contains two numbers, the number of vertices n and the number of edges m, each of the following m lines contains an edge given by two vertices. The format can be used to specify directed and undirected graphs as well as weighted and unweighted graphs.\n",
    "![Graph](resources\\edgelist.png)\n",
    "\n",
    "```\n",
    "6 7\n",
    "1 2\n",
    "2 3\n",
    "6 3\n",
    "5 6\n",
    "2 5\n",
    "2 4\n",
    "4 1\n",
    "```\n"
   ]
  },
  {
   "cell_type": "markdown",
   "metadata": {},
   "source": [
    "### Sample Dataset\n",
    "```\n",
    "6 7\n",
    "1 2\n",
    "2 3\n",
    "6 3\n",
    "5 6\n",
    "2 5\n",
    "2 4\n",
    "4 1\n",
    "```\n",
    "\n",
    "### Sample Output\n",
    "```\n",
    "2 4 2 2 2 2\n",
    "```"
   ]
  },
  {
   "cell_type": "code",
   "execution_count": 23,
   "metadata": {},
   "outputs": [],
   "source": [
    "\n",
    "with open('data/rosalind_deg.txt') as fh:\n",
    "    vertices, edges = fh.readline().strip().split(\" \")\n",
    "    edgelist = []\n",
    "    for line in fh:\n",
    "        vertice, edge = line.strip().split(\" \")\n",
    "        edgelist.extend([int(vertice), int(edge)])\n",
    "\n",
    "\n",
    "\n",
    "def degreesArray(edgelist):\n",
    "    array = [0] * int(vertices)\n",
    "    for node in edgelist:\n",
    "        array[node - 1] += 1\n",
    "    return array\n",
    "\n",
    "array = degreesArray(edgelist)\n",
    "\n",
    "with open('out/rosalind_deg.txt', 'w') as fh:\n",
    "        array = [str(element) for element in array]\n",
    "        fh.write(' '.join(array))"
   ]
  }
 ],
 "metadata": {
  "interpreter": {
   "hash": "779d32e33bbdd4b0f11414551ecd4e05fdefdab11a22ed998b2665b85200c83e"
  },
  "kernelspec": {
   "display_name": "Python 3.9.7 ('base')",
   "language": "python",
   "name": "python3"
  },
  "language_info": {
   "codemirror_mode": {
    "name": "ipython",
    "version": 3
   },
   "file_extension": ".py",
   "mimetype": "text/x-python",
   "name": "python",
   "nbconvert_exporter": "python",
   "pygments_lexer": "ipython3",
   "version": "3.9.7"
  },
  "orig_nbformat": 4
 },
 "nbformat": 4,
 "nbformat_minor": 2
}
