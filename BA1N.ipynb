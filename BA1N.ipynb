{
 "cells": [
  {
   "cell_type": "markdown",
   "metadata": {},
   "source": [
    "# 02: BA1N - Generate the d-Neighborhood of a String"
   ]
  },
  {
   "cell_type": "markdown",
   "metadata": {},
   "source": [
    "The d-neighborhood Neighbors(Pattern, d) is the set of all k-mers whose Hamming distance from Pattern does not exceed d."
   ]
  },
  {
   "cell_type": "markdown",
   "metadata": {},
   "source": [
    "## Problem Description"
   ]
  },
  {
   "cell_type": "markdown",
   "metadata": {},
   "source": [
    "### Generate the d-Neighborhood of a String\n",
    "\n",
    "Find all the neighbors of a pattern.\n",
    "\n",
    "- **Given**: A DNA string Pattern and an integer d.\n",
    "- **Return**: The collection of strings Neighbors(Pattern, d).\n",
    "\n",
    "#### Sample Dataset\n",
    "```\n",
    "ACG\n",
    "1\n",
    "```\n",
    "#### Sample Output\n",
    "\n",
    "```\n",
    "CCG\n",
    "TCG\n",
    "GCG\n",
    "AAG\n",
    "ATG\n",
    "AGG\n",
    "ACA\n",
    "ACC\n",
    "ACT\n",
    "ACG\n",
    "```"
   ]
  },
  {
   "cell_type": "markdown",
   "metadata": {},
   "source": [
    "## Solution\n"
   ]
  },
  {
   "cell_type": "code",
   "execution_count": 2,
   "metadata": {},
   "outputs": [],
   "source": [
    "with open(\"data/rosalind_ba1n.txt\", \"r\") as f:\n",
    "        Text = f.readline().strip()\n",
    "        d = int(f.readline().strip())\n",
    "\n",
    "\n",
    "\n",
    "def HammingDistance(first_seq,second_seq):\n",
    "    'Return the Hamming distance between equal-length sequences.'\n",
    "    if len(first_seq) != len(second_seq):\n",
    "        return -1\n",
    "    return sum(first_nt != seccond_nt for first_nt,seccond_nt in zip(first_seq,second_seq)) \n",
    "\n",
    "def Neighbors(Pattern, d):\n",
    "    if d == 0:\n",
    "        return Pattern\n",
    "    if len(Pattern)==1:\n",
    "        return {\"A\", \"C\", \"G\", \"T\"}\n",
    "    Neighborhood = []\n",
    "    SuffixNeighbors = Neighbors(Pattern[1:], d)\n",
    "    for Text in SuffixNeighbors:\n",
    "        if HammingDistance(Pattern[1:], Text) < d:\n",
    "            for x in {\"A\", \"C\", \"G\", \"T\"}:\n",
    "                Neighborhood.append(x + Text)\n",
    "        else:\n",
    "            Neighborhood.append(Pattern[0] + Text)\n",
    "    return Neighborhood\n",
    "\n",
    "out = Neighbors(Text, d)\n",
    "with open('out/rosalind_ba1n.txt', 'w') as output_data:\n",
    "    output_data.write(\"\\n\".join(out))"
   ]
  },
  {
   "cell_type": "code",
   "execution_count": null,
   "metadata": {},
   "outputs": [],
   "source": []
  }
 ],
 "metadata": {
  "interpreter": {
   "hash": "779d32e33bbdd4b0f11414551ecd4e05fdefdab11a22ed998b2665b85200c83e"
  },
  "kernelspec": {
   "display_name": "Python 3.9.7 ('base')",
   "language": "python",
   "name": "python3"
  },
  "language_info": {
   "codemirror_mode": {
    "name": "ipython",
    "version": 3
   },
   "file_extension": ".py",
   "mimetype": "text/x-python",
   "name": "python",
   "nbconvert_exporter": "python",
   "pygments_lexer": "ipython3",
   "version": "3.9.7"
  },
  "orig_nbformat": 4
 },
 "nbformat": 4,
 "nbformat_minor": 2
}
