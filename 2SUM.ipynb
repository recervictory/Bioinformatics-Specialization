{
 "cells": [
  {
   "cell_type": "markdown",
   "metadata": {},
   "source": [
    "# 07: 2SUM\n"
   ]
  },
  {
   "cell_type": "markdown",
   "metadata": {},
   "source": [
    "### Problem\n",
    "\n",
    "The problem is to find a given set of keys in a given array.\n",
    "\n",
    "- Given:  A positive integer k≤20, a positive integer n≤104, and k arrays of size n containing integers from −105 to 105.\n",
    "- Return: For each array A[1..n], output two different indices 1≤p<q≤n such that A[p]=−A[q] if exist, and \"-1\" otherwise."
   ]
  },
  {
   "cell_type": "markdown",
   "metadata": {},
   "source": [
    "### Sample Dataset\n",
    "```\n",
    "4 5\n",
    "2 -3 4 10 5\n",
    "8 2 4 -2 -8\n",
    "-5 2 3 2 -4\n",
    "5 4 -5 6 8\n",
    "```\n",
    "\n",
    "### Sample Output\n",
    "```\n",
    "-1\n",
    "2 4\n",
    "-1\n",
    "1 3\n",
    "```"
   ]
  },
  {
   "cell_type": "code",
   "execution_count": 31,
   "metadata": {},
   "outputs": [],
   "source": [
    "with open('data/rosalind_2sum.txt') as fh:\n",
    "    n, m = fh.readline().strip().split(\" \")\n",
    "    arraylist = []\n",
    "    for line in fh:\n",
    "        A = list(map(int, line.strip().split()))\n",
    "        arraylist.append(A)\n",
    "\n",
    "\n",
    "def findPair(array):\n",
    "    lookup = {}\n",
    "    for i in range(len(array)):\n",
    "        if - array[i] in lookup:\n",
    "            return lookup[-array[i]] + 1, i + 1\n",
    "        lookup[array[i]] = i\n",
    "    return -1\n",
    "\n",
    "def twoSums(arraylist):\n",
    "    return [findPair(array) for array in arraylist]\n",
    "\n",
    "indexes = twoSums(arraylist)\n",
    "\n",
    "with open('out/rosalin_2sum.txt', 'w') as fh:\n",
    "        for i in indexes:\n",
    "            if i == -1 : \n",
    "                fh.write(f'{i}\\n')\n",
    "            else:\n",
    "                fh.write(f'{i[0]} {i[1]} \\n')\n"
   ]
  }
 ],
 "metadata": {
  "interpreter": {
   "hash": "779d32e33bbdd4b0f11414551ecd4e05fdefdab11a22ed998b2665b85200c83e"
  },
  "kernelspec": {
   "display_name": "Python 3.9.7 ('base')",
   "language": "python",
   "name": "python3"
  },
  "language_info": {
   "codemirror_mode": {
    "name": "ipython",
    "version": 3
   },
   "file_extension": ".py",
   "mimetype": "text/x-python",
   "name": "python",
   "nbconvert_exporter": "python",
   "pygments_lexer": "ipython3",
   "version": "3.9.7"
  },
  "orig_nbformat": 4
 },
 "nbformat": 4,
 "nbformat_minor": 2
}
