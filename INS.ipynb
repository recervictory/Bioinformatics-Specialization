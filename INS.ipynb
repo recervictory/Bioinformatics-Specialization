{
 "cells": [
  {
   "cell_type": "markdown",
   "metadata": {},
   "source": [
    "# 04: INS - Insertion Sort\n",
    "\n",
    "Insertion sort is a simple sorting algorithm that builds the final sorted array one item at a time. It is much less efficient on large lists than more advanced algorithms such as “Quick Sort”, “Heap Sort”, or “Merge Sort”. However, insertion sort provides several advantages: simple implementation, efficient for (quite) small data sets, O(1) extra space.\n",
    "\n",
    "When humans manually sort something (for example, a deck of playing cards), most use a method that is similar to insertion sort.\n",
    "\n",
    "Source: Wikipedia\n",
    "\n",
    "Although it is one of the elementary sorting algorithms with O(n2) worst-case time, insertion sort is the algorithm of choice either when the data is nearly sorted (because it is adaptive) or when the problem size is small (because it has low overhead).\n",
    "\n",
    "For these reasons, and because it is also stable, insertion sort is often used as the recursive base case (when the problem size is small) for higher overhead divide-and-conquer sorting algorithms, such as “Merge Sort” or “Quick Sort”.\n",
    "\n",
    "Visualization by David R. Martin: [http://www.sorting-algorithms.com/insertion-sort](http://www.sorting-algorithms.com/insertion-sort)\n"
   ]
  },
  {
   "cell_type": "markdown",
   "metadata": {},
   "source": [
    "### Problem\n",
    "\n",
    "Insertion sort is a simple algorithm with quadratic running time that builds the final sorted array one item at a time.\n",
    "\n",
    "```\n",
    "procedure InsertionSort(A[1..n])\n",
    "    for i <- 2 to n do\n",
    "        k <- 1\n",
    "        while k > 1 and A[k] < A[k-1] do>\n",
    "            swap(A[k - 1], A[k])\n",
    "            k <- k -1\n",
    "```\n",
    "\n",
    "- **Given**: A positive integer n≤103 and an array A[1..n] of integers.\n",
    "\n",
    "- **Return**: The number of swaps performed by insertion sort algorithm on A[1..n]."
   ]
  },
  {
   "cell_type": "markdown",
   "metadata": {},
   "source": [
    "### Sample Dataset\n",
    "```\n",
    "6\n",
    "6 10 4 5 1 2\n",
    "```\n",
    "\n",
    "### Sample Output\n",
    "```\n",
    "12\n",
    "```"
   ]
  },
  {
   "cell_type": "code",
   "execution_count": 11,
   "metadata": {},
   "outputs": [],
   "source": [
    "with open('data/rosalind_ins.txt') as fh:\n",
    "    n = int(fh.readline())\n",
    "    Array = list(map(int, fh.readline().strip().split())) \n",
    "\n",
    "\n",
    "def insertionSort(array):\n",
    "    count = 0\n",
    "    for i in range(1,len(array)) :\n",
    "        k = i\n",
    "        while k > 0 and array[k] < array[k - 1]:\n",
    "            array[k - 1], array[k] = array[k], array[k - 1]\n",
    "            k = k - 1\n",
    "            count += 1\n",
    "    return count\n",
    "\n",
    "swapcount = insertionSort(Array)\n",
    "\n",
    "with open('out/rosalin_ins.txt', 'w') as fh:\n",
    "        fh.write(str(swapcount))"
   ]
  },
  {
   "cell_type": "code",
   "execution_count": null,
   "metadata": {},
   "outputs": [],
   "source": []
  }
 ],
 "metadata": {
  "interpreter": {
   "hash": "779d32e33bbdd4b0f11414551ecd4e05fdefdab11a22ed998b2665b85200c83e"
  },
  "kernelspec": {
   "display_name": "Python 3.9.7 ('base')",
   "language": "python",
   "name": "python3"
  },
  "language_info": {
   "codemirror_mode": {
    "name": "ipython",
    "version": 3
   },
   "file_extension": ".py",
   "mimetype": "text/x-python",
   "name": "python",
   "nbconvert_exporter": "python",
   "pygments_lexer": "ipython3",
   "version": "3.9.7"
  },
  "orig_nbformat": 4
 },
 "nbformat": 4,
 "nbformat_minor": 2
}
