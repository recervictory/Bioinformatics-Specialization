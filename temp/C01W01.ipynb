{
 "cells": [
  {
   "cell_type": "markdown",
   "metadata": {},
   "source": [
    "## 1.2 Hidden Messages in the Replication Origin"
   ]
  },
  {
   "cell_type": "markdown",
   "metadata": {},
   "source": [
    "Operating under the assumption that DNA is a language of its own, let's borrow Legrand's method and see if we can find any surprisingly frequent \"words\" within the ori of Vibrio cholerae. We have added reason to look for frequent words in the ori because for various biological processes, certain nucleotide strings often appear surprisingly often in small regions of the genome. This is often because certain proteins can only bind to DNA if a specific string of nucleotides is present, and if there are more occurrences of the string, then it is more likely that binding will successfully occur. (It is also less likely that a mutation will disrupt the binding process.)\n",
    "\n",
    "For example, ACTAT is a surprisingly frequent substring of ACAACTATGCATACTATCGGGAACTATCCT.\n",
    "\n",
    "**We will use the term k-mer to refer to a string of length k and define Count(Text, Pattern) as the number of times that a k-mer Pattern appears as a substring of Text. Following the above example**,\n",
    "\n",
    "`Count(ACAACTATGCATACTATCGGGAACTATCCT, ACTAT) = 3`.\n",
    "\n",
    "We note that Count(CGATATATCCATAG, ATA) is equal to 3 (not 2) since we should account for overlapping occurrences of Pattern in Text."
   ]
  },
  {
   "cell_type": "markdown",
   "metadata": {},
   "source": [
    "To compute Count(Text, Pattern), our plan is to “slide a window” down Text, checking whether each k-mer substring of Text matches Pattern. We will therefore refer to the k-mer starting at position i of Text as Text(i, k). Throughout this book, we will often use 0-based indexing, meaning that we count starting at 0 instead of 1. In this case, Text begins at position 0 and ends at position |Text| − 1 (|Text| denotes the number of symbols in Text). For example, if Text = GACCATACTG, then Text(4, 3) = ATA. Note that the last k-mer of Text begins at position |Text| − k, e.g., the last 3-mer of GACCATACTG starts at position 10 − 3 = 7. This discussion results in the following pseudocode for computing Count(Text, Pattern).\n",
    "\n",
    "```\n",
    "    PatternCount(Text, Pattern)\n",
    "        count ← 0\n",
    "        for i ← 0 to |Text| − |Pattern|\n",
    "            if Text(i, |Pattern|) = Pattern\n",
    "                count ← count + 1\n",
    "        return count\n",
    "```"
   ]
  },
  {
   "cell_type": "markdown",
   "metadata": {},
   "source": [
    "Code Challenge: Implement PatternCount (reproduced below).\n",
    "     Input: Strings Text and Pattern.\n",
    "     Output: Count(Text, Pattern).\n",
    "\n",
    "```\n",
    "PatternCount(Text, Pattern)\n",
    "  count ← 0\n",
    "  for i ← 0 to |Text| − |Pattern|\n",
    "    if Text(i, |Pattern|) = Pattern\n",
    "      count ← count + 1\n",
    "  return count\n",
    "````"
   ]
  },
  {
   "cell_type": "code",
   "execution_count": 3,
   "metadata": {},
   "outputs": [],
   "source": [
    "with open (\"data/dataset_2_6.txt\") as input_file:\n",
    "    Text, Pattern = input_file.read().strip().split()\n",
    "\n",
    "def PatternCount(Text,Pattern):\n",
    "    count = 0\n",
    "    for i in range(len(Text) - len(Pattern)):\n",
    "        if Text[i:i+len(Pattern)] == Pattern:\n",
    "            count += 1\n",
    "    return count\n",
    "\n",
    "total_count = PatternCount(Text,Pattern)\n",
    "\n",
    "with open('output/dataset_2_6.txt', 'w') as output_data:\n",
    "    output_data.write(str(total_count))"
   ]
  },
  {
   "cell_type": "code",
   "execution_count": 29,
   "metadata": {},
   "outputs": [
    {
     "data": {
      "text/plain": [
       "5"
      ]
     },
     "execution_count": 29,
     "metadata": {},
     "output_type": "execute_result"
    }
   ],
   "source": [
    "PatternCount('CGCGATACGTTACATACATGATAGACCGCGCGCGATCATATCGCGATTATC', 'CGCG')"
   ]
  },
  {
   "cell_type": "code",
   "execution_count": 35,
   "metadata": {},
   "outputs": [
    {
     "data": {
      "text/plain": [
       "'7 15 17'"
      ]
     },
     "execution_count": 35,
     "metadata": {},
     "output_type": "execute_result"
    }
   ],
   "source": [
    "def PatternMatching(Text,Pattern):\n",
    "    position = \"\"\n",
    "    for i in range(len(Text) - len(Pattern)+ 1):\n",
    "        if Text[i:i+len(Pattern)] == Pattern:\n",
    "            position += str(i) + \" \"\n",
    "    return position.strip()\n",
    "\n",
    "Text = 'ATGACTTCGCTGTTACGCGC'\n",
    "Pattern = 'CGC'\n",
    "\n",
    "PatternMatching(Text,Pattern)"
   ]
  },
  {
   "cell_type": "markdown",
   "metadata": {},
   "source": [
    "## The Frequent Words Problem\n",
    "\n",
    "We say that Pattern is a most frequent k-mer in Text if it maximizes Count(Text, Pattern) among all k-mers. You can see that `ACTAT` is a most frequent 5-mer of `ACAACTATGCATACTATCGGGAACTATCCT`, and `ATA` is a most frequent 3-mer of CGATATATCCATAG.\n",
    "\n",
    "STOP and Think: Can a string have multiple most frequent k-mers?\n",
    "\n",
    "We now have a rigorously defined computational problem.\n",
    "\n",
    "Frequent Words Problem: Find the most frequent k-mers in a string.\n",
    "\n",
    "Input: A string Text and an integer k.\n",
    "Output: All most frequent k-mers in Text."
   ]
  },
  {
   "cell_type": "markdown",
   "metadata": {},
   "source": [
    " A straightforward algorithm for finding the most frequent k-mers in a string Text checks all k-mers appearing in this string (there are |Text| − k + 1 such k-mers) and then computes how many times each k-mer appears in Text. To implement this algorithm, called FrequentWords, we will need to generate an array Count, where Count(i) stores Count(Text, Pattern) for Pattern = Text(i, k) (see figure below).\n",
    "\n",
    "The pseudocode for FrequentWords is shown below.\n",
    "\n",
    "---\n",
    "```\n",
    "FrequentWords(Text, k)\n",
    "    FrequentPatterns ← an empty set\n",
    "    for i ← 0 to |Text| − k\n",
    "        Pattern ← the k-mer Text(i, k)\n",
    "        Count(i) ← PatternCount(Text, Pattern)\n",
    "    maxCount ← maximum value in array Count\n",
    "    for i ← 0 to |Text| − k\n",
    "        if Count(i) = maxCount\n",
    "            add Text(i, k) to FrequentPatterns\n",
    "    remove duplicates from FrequentPatterns\n",
    "    return FrequentPatterns\n",
    "```\n",
    "---\n",
    "\n",
    "A Faster Frequent Words Approach:\n",
    "If you were to solve the Frequent Words Problem by hand for a small example, you would probably form a table like the one in the figure below for Text equal to \"ACGTTTCACGTTTTACGG\" and k equal to 3. You would slide a length-k window Text, and if the current k-mer substring of text does not occur in the table, then you would create a new entry for it. Otherwise, you would add 1 to the entry corresponding to the current k-mer substring of Text. We call this table the frequency table for Text and k.\n",
    "\n",
    "---\n",
    "```\n",
    "FrequencyTable(Text, k)\n",
    "    freqMap ← empty map\n",
    "    n ← |Text|\n",
    "    for i ← 0 to n − k\n",
    "        Pattern ← Text(i, k)\n",
    "        if freqMap[Pattern] doesn't exist\n",
    "            freqMap[Pattern]← 1\n",
    "        else\n",
    "           freqMap[pattern] ←freqMap[pattern]+1 \n",
    "    return freqMap\n",
    "```\n",
    "---\n"
   ]
  },
  {
   "cell_type": "code",
   "execution_count": 4,
   "metadata": {},
   "outputs": [
    {
     "data": {
      "text/plain": [
       "{'ACGT': 1,\n",
       " 'CGTT': 1,\n",
       " 'GTTG': 1,\n",
       " 'TTGC': 1,\n",
       " 'TGCA': 2,\n",
       " 'GCAT': 3,\n",
       " 'CATG': 3,\n",
       " 'ATGT': 1,\n",
       " 'TGTC': 1,\n",
       " 'GTCG': 1,\n",
       " 'TCGC': 1,\n",
       " 'CGCA': 1,\n",
       " 'ATGA': 2,\n",
       " 'TGAT': 1,\n",
       " 'GATG': 1,\n",
       " 'ATGC': 1,\n",
       " 'TGAG': 1,\n",
       " 'GAGA': 1,\n",
       " 'AGAG': 1,\n",
       " 'GAGC': 1}"
      ]
     },
     "execution_count": 4,
     "metadata": {},
     "output_type": "execute_result"
    }
   ],
   "source": [
    "def FrequencyTable(Text,k):\n",
    "    freqMap = {}\n",
    "    n = len(Text)\n",
    "    for i in range(n-k):\n",
    "        Pattern = Text[i:i+k]\n",
    "        if Pattern not in freqMap:\n",
    "            freqMap[Pattern] = 1\n",
    "        else:\n",
    "            freqMap[Pattern] += 1\n",
    "    return freqMap\n",
    "\n",
    "FrequencyTable('ACGTTGCATGTCGCATGATGCATGAGAGCT',4)"
   ]
  },
  {
   "cell_type": "markdown",
   "metadata": {},
   "source": [
    "Once we have built the frequency table for a given Text and k, we can find all frequent k-mers if we determine the maximum value in the table, and then identify the keys of the frequency table achieving this value, appending each one that we find to a growing list. We are now ready to write a function BetterFrequentWords to solve the Frequent Words Problem.  This function relies on a function MaxMap that takes a map of strings to integers as an input and returns the maximum value of this map as output. \n",
    "\n",
    "---\n",
    "```\n",
    "BetterFrequentWords(Text, k)\n",
    "    FrequentPatterns ← an array of strings of length 0\n",
    "    freqMap ← FrequencyTable(Text, k)\n",
    "    max ← MaxMap(freqMap)\n",
    "    for all strings Pattern in freqMap\n",
    "        if freqMap[pattern] = max\n",
    "            append Pattern to frequentPatterns\n",
    "    return frequentPatterns\n",
    "```\n",
    "---"
   ]
  },
  {
   "cell_type": "code",
   "execution_count": 31,
   "metadata": {},
   "outputs": [
    {
     "name": "stdout",
     "output_type": "stream",
     "text": [
      "TGAATCTGTGAAT GAATCTGTGAATC AATCTGTGAATCT ATCTGTGAATCTG\n"
     ]
    }
   ],
   "source": [
    "with open (\"data/dataset_2_13.txt\") as input_file:\n",
    "    Text, k = input_file.read().strip().split()\n",
    "\n",
    "def BetterFrequentWords(Text,k):\n",
    "    k = int(k)\n",
    "    FrequentPatterns = \"\"\n",
    "    freqMap = FrequencyTable(Text, k)\n",
    "    maxMap = max(freqMap.values())\n",
    "    for Pattern in freqMap:\n",
    "        if freqMap[Pattern] == maxMap:\n",
    "            FrequentPatterns += Pattern + \" \"\n",
    "    return FrequentPatterns.strip()\n",
    "\n",
    "FrequentPatterns = BetterFrequentWords(Text,k)\n",
    "print(FrequentPatterns)\n",
    "with open('output/dataset_2_13.txt', 'w') as output_data:\n",
    "    output_data.write((FrequentPatterns))"
   ]
  },
  {
   "cell_type": "code",
   "execution_count": 32,
   "metadata": {},
   "outputs": [
    {
     "data": {
      "text/plain": [
       "'GTG'"
      ]
     },
     "execution_count": 32,
     "metadata": {},
     "output_type": "execute_result"
    }
   ],
   "source": [
    "Text = 'TAAACGTGAGAGAAACGTGCTGATTACACTTGTTCGTGTGGTAT'\n",
    "k = 3\n",
    "BetterFrequentWords(Text,k)"
   ]
  },
  {
   "cell_type": "code",
   "execution_count": 34,
   "metadata": {},
   "outputs": [
    {
     "name": "stdout",
     "output_type": "stream",
     "text": [
      "TGTAATC\n"
     ]
    }
   ],
   "source": [
    "from Bio.Seq import Seq\n",
    "dna = Seq('GATTACA')\n",
    "print(dna.reverse_complement())"
   ]
  },
  {
   "cell_type": "code",
   "execution_count": 18,
   "metadata": {},
   "outputs": [
    {
     "name": "stdout",
     "output_type": "stream",
     "text": [
      "GCGTTTGTT \n"
     ]
    }
   ],
   "source": [
    "with open (\"data/Vibrio_cholerae.txt\") as input_file:\n",
    "    Text = input_file.read().strip()\n",
    "    k = 9\n",
    "#print(Text)\n",
    "\n",
    "FrequentPatterns = BetterFrequentWords(Text,k)\n",
    "print(FrequentPatterns)\n",
    "with open('output/Vibrio_cholerae.txt', 'w') as output_data:\n",
    "    output_data.write((FrequentPatterns))"
   ]
  },
  {
   "cell_type": "markdown",
   "metadata": {},
   "source": [
    "## 1.3 Peculiar Statistics of the Forward and Reverse Half-Strands\n",
    "\n",
    "Since we don't know the location of ori in a circular genome, let's linearize it (i.e., select an arbitrary position and pretend that the genome begins here), resulting in a linear string Genome. We define Skewi(Genome) as the difference between the total number of occurrences of G and the total number of occurrences of C in the first i nucleotides of Genome. The skew diagram is defined by plotting Skewi (Genome) (as i ranges from 0 to |Genome|), where Skew0 (Genome) is set equal to zero. The figure below shows a skew diagram for the DNA string CATGGGCATCGGCCATACGCC.\n",
    "\n",
    "Note that we can compute Skewi+1(Genome) from Skewi(Genome) according to the nucleotide in position i of Genome. If this nucleotide is G, then Skewi+1(Genome) = Skewi(Genome) + 1; if this nucleotide is C, then Skewi+1(Genome)= Skewi(Genome) – 1; otherwise, Skewi+1(Genome) = Skewi(Genome)."
   ]
  },
  {
   "cell_type": "code",
   "execution_count": 23,
   "metadata": {},
   "outputs": [],
   "source": [
    "def gc_skew(dna):\n",
    "    skew= 0\n",
    "    sequence = [0]\n",
    "    bases =   {'G' :  1, \n",
    "               'C' : -1,\n",
    "               'A' :  0,\n",
    "               'T' :  0}\n",
    "    for nt in dna:\n",
    "        skew  += bases[nt]\n",
    "        sequence.append(skew)\n",
    "    print(len(sequence))\n",
    "    return sequence\n"
   ]
  },
  {
   "cell_type": "code",
   "execution_count": 27,
   "metadata": {},
   "outputs": [
    {
     "name": "stdout",
     "output_type": "stream",
     "text": [
      "61\n"
     ]
    },
    {
     "data": {
      "image/png": "[encoded data removed]",
      "text/plain": [
       "<Figure size 1440x720 with 1 Axes>"
      ]
     },
     "metadata": {},
     "output_type": "display_data"
    }
   ],
   "source": [
    "#%matplotlib inline\n",
    "import matplotlib.pyplot as plt\n",
    "plt.style.use('seaborn-whitegrid')\n",
    "import numpy as np\n",
    "\n",
    "data = gc_skew('TAAAGACTGCCGAGAGGCCAACACGAGTGCTAGAACGAGGGGCGTAAACGCGGGTCCGAT')\n",
    "x = range(0,len(data))\n",
    "\n",
    "plt.figure(figsize=(20,10))\n",
    "plt.plot(x, data)\n",
    "plt.show()\n"
   ]
  },
  {
   "cell_type": "code",
   "execution_count": 9,
   "metadata": {},
   "outputs": [
    {
     "name": "stdout",
     "output_type": "stream",
     "text": [
      "['81363', '81364', '81371', '81372', '81373', '81374']\n"
     ]
    }
   ],
   "source": [
    "with open (\"data/dataset_7_10.txt\") as input_file:\n",
    "    Text = input_file.read().strip()\n",
    "\n",
    "def minimum_gc_skew(dna):\n",
    "    skew= 0\n",
    "    sequence = [0]\n",
    "    bases =   {'G' :  1, \n",
    "               'C' : -1,\n",
    "               'A' :  0,\n",
    "               'T' :  0}\n",
    "    for nt in dna:\n",
    "        skew  += bases[nt]\n",
    "        sequence.append(skew)\n",
    "    mn = min(sequence)\n",
    "    return [str(index) for index, value in enumerate(sequence) if value == mn]\n",
    "\n",
    "min_skew = minimum_gc_skew(Text)\n",
    "print(min_skew)\n",
    "\n",
    "with open('output/dataset_7_10.txt', 'w') as output_data:\n",
    "    output_data.write(' '.join(min_skew))"
   ]
  },
  {
   "cell_type": "code",
   "execution_count": 71,
   "metadata": {},
   "outputs": [
    {
     "data": {
      "text/plain": [
       "[11, 24]"
      ]
     },
     "execution_count": 71,
     "metadata": {},
     "output_type": "execute_result"
    }
   ],
   "source": [
    "minimum_gc_skew('TAAAGACTGCCGAGAGGCCAACACGAGTGCTAGAACGAGGGGCGTAAACGCGGGTCCGAT')"
   ]
  },
  {
   "cell_type": "markdown",
   "metadata": {},
   "source": [
    "## 1.4 Some Hidden Messages are More Elusive than Others\n",
    "\n",
    "We say that position i in k-mers p1 … pk and q1 … qk is a mismatch if pi ≠ qi. For example, CGAAT and CGGAC have two mismatches. The number of mismatches between strings p and q is called the Hamming distance between these strings and is denoted HammingDistance(p, q).\n",
    "\n",
    "Hamming Distance Problem: Compute the Hamming distance between two strings.\n",
    "\n",
    "Input: Two strings of equal length.\n",
    "Output: The Hamming distance between these strings.\n",
    "Code Challenge: Solve the Hamming Distance Problem."
   ]
  },
  {
   "cell_type": "code",
   "execution_count": 5,
   "metadata": {},
   "outputs": [
    {
     "name": "stdout",
     "output_type": "stream",
     "text": [
      "784\n"
     ]
    }
   ],
   "source": [
    "with open('data/dataset_9_3.txt') as input_data:\n",
    "\ts, t = [line.rstrip('\\n') for line in input_data.readlines()]\n",
    "\n",
    "def HammingDistance(first_seq,second_seq):\n",
    "    'Return the Hamming distance between equal-length sequences.'\n",
    "    if len(first_seq) != len(second_seq):\n",
    "        return -1\n",
    "    return sum(first_nt != seccond_nt for first_nt,seccond_nt in zip(first_seq,second_seq)) \n",
    "\n",
    "count = HammingDistance(s,t)\n",
    "\n",
    "print(count)\n",
    "with open('output/dataset_9_3.txt', 'w') as output_data:\n",
    "\toutput_data.write(str(count))"
   ]
  },
  {
   "cell_type": "code",
   "execution_count": 41,
   "metadata": {},
   "outputs": [
    {
     "name": "stdout",
     "output_type": "stream",
     "text": [
      "14 16 113 146 164 172 197 241 363 370 377 400 416 417 434 437 440 456 467 473 527 556 590 591 639 663 665 675 695 722 739 749 759 761 773 785 822 834 850 853 855 857 859 871 889 891 907 944 946 949 954 976 992 1017 1020 1038 1040 1050 1052 1054 1057 1078 1090 1091 1104 1108 1120 1122 1125 1139 1146 1149 1161 1163 1181 1186 1194 1196 1198 1200 1216 1241 1247 1275 1320 1361 1366 1372 1394 1407 1409 1411 1430 1434 1439 1441 1453 1514 1516 1562 1575 1588 1606 1646 1673 1695 1705 1717 1731 1766 1823 1883 1900 1912 1922 1935 1980 1987 1999 2009 2010 2012 2023 2062 2072 2092 2097 2104 2107 2139 2194 2211 2261 2268 2270 2290 2305 2308 2320 2321 2323 2373 2430 2459 2482 2508 2524 2561 2580 2621 2660 2679 2681 2730 2737 2753 2793 2817 2829 2859 2882 2897 2924 2945 2981 2991 2998 3020 3022 3037 3054 3058 3090 3095 3105 3108 3109 3111 3135 3154 3181 3184 3195 3197 3210 3221 3223 3260 3261 3262 3270 3289 3321 3344 3406 3408 3423 3426 3428 3429 3440 3454 3457 3495 3498 3505 3530 3544 3546 3575 3655 3669 3676 3747 3792 3794 3819 3838 3844 3870 3904 3929 3930 3958 3985 4036 4060 4115 4143 4158 4160 4192 4199 4210 4232 4233 4235 4263 4269 4292 4296 4315 4330 4332 4353 4374 4409 4417 4428 4441 4442 4463 4474 4498 4531 4593 4617 4619 4623 4630 4643 4647 4697 4699 4718 4738 4743 4765 4766 4783 4798 4833 4846 4849 4902 4925 4940 4977 5008 5024 5047 5055 5084 5106 5108 5125 5129 5159 5165 5174 5175 5176 5191 5199 5203 5209 5246 5248 5263 5282 5386 5408 5411 5417 5418 5436 5439 5536 5541 5542 5545 5548 5581 5622 5641 5642 5657 5677 5695 5697 5700 5742 5774 5787 5837 5841 5859 5883 5902 5922 5938 5954 5959 5980 6004 6006 6056 6058 6069 6091 6093 6118 6139 6187 6244 6245 6249 6255 6270 6323 6325 6328 6339 6342 6345 6349 6392 6403 6456 6488 6517 6549 6552 6574 6577 6592 6609 6636 6641 6653 6659 6690 6698 6725 6756 6778 6789 6809 6857 6876 6879 6886 6904 6958 6998 7010 7047 7052 7073 7074 7075 7086 7103 7123 7152 7157 7173 7198 7203 7218 7225 7258 7265 7277 7375 7396 7410 7438 7456 7459 7479 7490 7507 7518 7538 7624 7644 7650 7651 7661 7665 7716 7734 7736 7776 7833 7842 7866 7917 7943 7945 7949 7971 8018 8019 8033 8045 8075 8124 8126 8149 8176 8178 8187 8193 8194 8199 8236 8244 8277 8295 8325 8371 8391 8398 8409 8410 8423 8434 8435 8441 8493 8506 8507 8508 8509 8512 8514 8525 8529 8531 8546 8577 8581 8594 8612 8613 8636 8665 8675 8684 8697 8717 8740 8749 8750 8770 8820 8837 8843 8848 8850 8876 8881 8882 8908 8909 8910 8942 8962 8974 8976 8997 9027 9037 9039 9061 9070 9089 9133 9148 9163 9181 9198 9214 9242 9251 9282 9311 9318 9389 9406 9487 9560 9590 9612 9613 9629 9665 9692 9705 9729 9737 9749 9764 9770 9781 9808 9810 9814 9825 9844 9847 9862 9872 9933 9935 9939 9981 9992 9997 9998 10008 10009 10049 10050 10070 10088 10090 10104 10127 10128 10130 10144 10156 10182 10197 10200 10203 10207 10236 10254 10271 10278 10306 10318 10330 10342 10349 10358 10398 10410 10427 10428 10449 10452 10455 10459 10500 10508 10538 10569 10602 10605 10611 10627 10629 10658 10662 10666 10702 10712 10737 10754 10763 10791 10815 10836 10837 10838 10946 10955 10966 10988 11041 11045 11087 11135 11164 11181 11201 11215 11252 11274 11290 11334 11351 11361 11379 11392 11413 11445 11459 11460 11481 11492 11494 11547 11562 11573 11596 11640 11652 11678 11679 11705 11720 11743 11746 11757 11759 11779 11797 11815 11822 11873 11904 11905 11907 11916 11930 11953 11962 11989 11992 12007 12019 12040 12047 12067 12072 12078 12094 12149 12150 12194 12195 12220 12223 12241 12242 12261 12266 12294 12305 12347 12348 12386 12435 12450 12467 12499 12503 12527 12529 12530 12564 12574 12575 12576 12592 12630 12632 12633 12636 12652 12655 12656 12677 12766 12773 12786 12806 12808 12857 12981 13007 13041 13042 13048 13072 13078 13096 13168 13241 13244 13260 13284 13322 13327 13345 13361 13369 13376 13380 13382 13418 13424 13428 13443 13451 13453 13490 13505 13528 13544 13585 13600 13604 13628 13654 13660 13675 13700 13701 13702 13731 13760 13767 13813 13830 13841 13842 13857 13859 13860 13936 13949 13952 13972 14079 14094 14116 14155 14156 14163 14171 14199 14249 14302 14310 14319 14334 14350 14352 14366 14374 14398 14416 14435 14477 14483 14499 14542 14552 14578 14579 14585 14597 14603 14643 14653 14677 14700 14707 14713 14715 14719 14790 14836 14851 14931 14937 14938 14962 14970 14972 14976 15094 15112 15133 15134 15151 15199 15217 15273 15295 15296 15297 15307 15315 15324 15327 15399 15421 15440 15450 15473 15485 15496 15512 15533 15535 15569 15571 15572 15586 15617 15618 15655 15662 15681 15715 15734 15765 15809 15815 15838 15872 15893 15931 15960 15981 15985 16015 16017 16069 16217 16219 16275 16304 16321 16337 16364 16379 16388 16410 16411 16412 16413 16430 16439 16461 16514 16548 16558 16560 16561 16580 16588 16637 16640 16657 16660 16665 16676 16693 16699 16722 16753 16777 16778 16804 16806 16835 16841 16843 16864 16878 16889 16892 16914 16922 16927 16958 16985 17002 17004 17029 17031 17032 17067 17070 17114 17121 17141 17155 17156 17159 17174 17190 17199 17206 17220 17229 17266 17293 17323 17340 17373 17375 17376 17401 17480 17488 17528 17530 17534 17535 17536 17560 17562 17589 17593 17594 17610 17616 17629 17680 17696 17708 17761 17802 17804 17816 17874 17958 17971 18002 18010 18016 18023 18035 18048 18060 18061 18074 18087 18133 18204 18235 18252 18271 18290 18295 18314 18315 18344 18345 18348 18460 18461 18462 18463 18464 18477 18491 18515 18544 18566 18571 18589 18624 18648 18650 18725 18734 18758 18770 18798 18800 18812 18845 18876 18883 18889 18911 18937 18959 18960 18982 19018 19029 19032 19054 19101 19115 19120 19138 19139 19154 19214 19218 19230 19244 19248 19268 19290 19307 19368 19384 19385 19388 19436 19454 19476 19489 19517 19560 19578 19579 19580 19594 19595 19601 19621 19675 19676 19700 19761 19773 19813 19819 19825 19829 19832 19852 19858 19892 19898 19919 19956\n"
     ]
    }
   ],
   "source": [
    "with open (\"data/dataset_9_4.txt\") as input_file:\n",
    "    Pattern,Text, d = input_file.read().strip().split()\n",
    "d = int(d)\n",
    "\n",
    "#print(Text,pattern, k)\n",
    "def ApproximatePatternMatching(Text,Pattern,d):\n",
    "    k , n = len(Pattern), len(Text)\n",
    "    position = []\n",
    "\n",
    "    for i in range(n - k + 1):\n",
    "        if HammingDistance(Pattern,Text[i:i+k]) <= d:\n",
    "            position.append(str(i))\n",
    "    return ' '.join(position)\n",
    "\n",
    "print(ApproximatePatternMatching(Text,Pattern,d))\n",
    "\n",
    "with open('output/dataset_9_4.txt', 'w') as output_data:\n",
    "    output_data.write(' '.join(min_skew))"
   ]
  },
  {
   "cell_type": "markdown",
   "metadata": {},
   "source": [
    "## 1.4 Some Hidden Messages are More Elusive than Others\n",
    "\n",
    "Computing Countd(Text, Pattern) simply requires us to compute the Hamming distance between Pattern and every k-mer substring of Text, which is achieved by the following pseudocode.\n",
    "\n",
    "---\n",
    "```\n",
    "ApproximatePatternCount(Text, Pattern, d)\n",
    "        count ← 0\n",
    "        for i ← 0 to |Text| − |Pattern|\n",
    "            Pattern′ ← Text(i , |Pattern|)\n",
    "           if HammingDistance(Pattern, Pattern′) ≤ d\n",
    "                count ← count + 1\n",
    "        return count\n",
    "```\n",
    "---"
   ]
  },
  {
   "cell_type": "code",
   "execution_count": 48,
   "metadata": {},
   "outputs": [
    {
     "name": "stdout",
     "output_type": "stream",
     "text": [
      "3\n"
     ]
    }
   ],
   "source": [
    "with open (\"data/dataset_9_6.txt\") as input_file:\n",
    "    Pattern,Text, d = input_file.read().strip().split()\n",
    "d = int(d)\n",
    "\n",
    "def ApproximatePatternCount(Text,Pattern,d=2):\n",
    "    k , n = len(Pattern), len(Text)\n",
    "    count = 0\n",
    "    for i in range(n - k + 1):\n",
    "        if HammingDistance(Pattern,Text[i:i+k]) <= d:\n",
    "            count += 1\n",
    "    return count\n",
    "\n",
    "count = ApproximatePatternCount(Text, Pattern,d)\n",
    "print(count)\n",
    "\n",
    "with open('output/dataset_9_6.txt', 'w') as output_data:\n",
    "\toutput_data.write(str(count))"
   ]
  },
  {
   "cell_type": "markdown",
   "metadata": {},
   "source": [
    "## 1.4 Some Hidden Messages are More Elusive than Others"
   ]
  },
  {
   "cell_type": "markdown",
   "metadata": {},
   "source": [
    "The Clump Finding Problem is a more complex problem than we have encountered thus far, and writing a function solving it from scratch would be difficult. However, this is where modularity in writing programs is so helpful. We already have a FrequencyTable function that will produce a frequency table for a given window of a string of length L. If we apply it to a given window, then we simply need to check if there are any string keys in the table whose values are at least equal to t. We will append any such keys that we have not already seen in some other window of text to a growing list of strings. In the end, this list of strings will contain the (L, t)-clumps of text. This is handled by the following FindClumps function.\n",
    "\n",
    "We defined a k-mer as a \"clump\" if it appears many times within a short interval of the genome. More formally, given integers L and t, a k-mer Pattern forms an (L, t)-clump inside a (longer) string Genome if there is an interval of Genome of length L in which this k-mer appears at least t times. (This definition assumes that the k-mer completely fits within the interval. This also does not take reverse complements into account yet.) For example, TGCA forms a (25,3)-clump in the following Genome:\n",
    "\n",
    "---\n",
    "```\n",
    "FindClumps(Text, k, L, t)\n",
    "    Patterns ← an array of strings of length 0\n",
    "    n ← |Text|\n",
    "    for every integer i between 0 and n − L\n",
    "        Window ← Text(i, L)\n",
    "        freqMap ← FrequencyTable(Window, k)\n",
    "        for every key s in freqMap\n",
    "            if freqMap[s] ≥ t\n",
    "                append s to Patterns\n",
    "    remove duplicates from Patterns\n",
    "    return Patterns\n",
    "```\n",
    "---\n",
    "\n",
    "Code Challenge: Solve the Clump Finding Problem (restated below). You will need to make sure that your algorithm is efficient enough to handle a large dataset.\n",
    "\n",
    "### Clump Finding Problem: Find patterns forming clumps in a string.\n",
    "\n",
    "- Input: A string Genome, and integers k, L, and t.\n",
    "- Output: All distinct k-mers forming (L, t)-clumps in Genome.\n",
    "\n",
    "Sample Input:\n",
    "```\n",
    "CGGACTCGACAGATGTGAAGAACGACAATGTGAAGACTCGACACGACAGAGTGAAGAGAAGAGGAAACATTGTAA\n",
    "5 50 4\n",
    "```\n",
    "Sample Output:\n",
    "\n",
    "`CGACA GAAGA`"
   ]
  },
  {
   "cell_type": "code",
   "execution_count": 8,
   "metadata": {},
   "outputs": [
    {
     "data": {
      "text/plain": [
       "'CGACA GAAGA'"
      ]
     },
     "execution_count": 8,
     "metadata": {},
     "output_type": "execute_result"
    }
   ],
   "source": [
    "def FindClumps(Text, k, L,t):\n",
    "    k, L, t = int(k), int(L) , int(t)\n",
    "    Pattern = []\n",
    "    n = len(Text)\n",
    "    for i in range(n - L):\n",
    "        Window = Text[i:i + L]\n",
    "        freqMap = FrequencyTable(Window, k)\n",
    "        for key,value in freqMap.items():\n",
    "            if freqMap[key] >= t:\n",
    "                Pattern.append(key)\n",
    "    return \" \".join(set(Pattern))\n",
    "\n",
    "Text = \"CGGACTCGACAGATGTGAAGAACGACAATGTGAAGACTCGACACGACAGAGTGAAGAGAAGAGGAAACATTGTAA\"\n",
    "k = 5\n",
    "L = 50\n",
    "t = 4\n",
    "FindClumps(Text, k, L, t)"
   ]
  },
  {
   "cell_type": "code",
   "execution_count": 25,
   "metadata": {},
   "outputs": [
    {
     "name": "stdout",
     "output_type": "stream",
     "text": [
      "\n"
     ]
    }
   ],
   "source": [
    "with open (\"data/dataset_4_5.txt\") as input_file:\n",
    "    Text, k, L, t = input_file.read().strip().split()\n",
    "\n",
    "def FindClumps(Text, k, L,t):\n",
    "    k, L, t = int(k), int(L) , int(t)\n",
    "    Pattern = []\n",
    "    n = len(Text)\n",
    "    for i in range(n - L):\n",
    "        Window = Text[i:i + L]\n",
    "        freqMap = FrequencyTable(Window, k)\n",
    "        for key,value in freqMap.items():\n",
    "            if freqMap[key] >= t:\n",
    "                Pattern.append(key)\n",
    "    return \" \".join(set(Pattern))\n",
    "\n",
    "Clumps = FindClumps(Text, k, L, t)\n",
    "print(Clumps)\n",
    "\n",
    "with open('output/dataset_4_5.txt', 'w') as output_data:\n",
    "    output_data.write(Clumps)"
   ]
  },
  {
   "cell_type": "code",
   "execution_count": null,
   "metadata": {},
   "outputs": [],
   "source": [
    "with open (\"data/dataset_7_10.txt\") as input_file:\n",
    "    Text = input_file.read().strip()\n",
    "\n",
    "def minimum_gc_skew(dna):\n",
    "    skew= 0\n",
    "    sequence = [0]\n",
    "    bases =   {'G' :  1, \n",
    "               'C' : -1,\n",
    "               'A' :  0,\n",
    "               'T' :  0}\n",
    "    for nt in dna:\n",
    "        skew  += bases[nt]\n",
    "        sequence.append(skew)\n",
    "    mn = min(sequence)\n",
    "    return [str(index) for index, value in enumerate(sequence) if value == mn]\n",
    "\n",
    "min_skew = minimum_gc_skew(Text)\n",
    "print(min_skew)\n",
    "\n",
    "with open('output/dataset_7_10.txt', 'w') as output_data:\n",
    "    output_data.write(' '.join(min_skew))"
   ]
  },
  {
   "cell_type": "code",
   "execution_count": 16,
   "metadata": {},
   "outputs": [
    {
     "name": "stdout",
     "output_type": "stream",
     "text": [
      "['3764856', '3764858']\n"
     ]
    }
   ],
   "source": [
    "for salmonella_enterica in SeqIO.parse(\"data/Salmonella_enterica.txt\", \"fasta\"):\n",
    "    Text = salmonella_enterica.seq\n",
    "\n",
    "min_skew = minimum_gc_skew(Text)\n",
    "print(min_skew)"
   ]
  },
  {
   "cell_type": "code",
   "execution_count": 29,
   "metadata": {},
   "outputs": [
    {
     "name": "stdout",
     "output_type": "stream",
     "text": [
      "4809038\n"
     ]
    },
    {
     "data": {
      "image/png": "[encoded data removed]",
      "text/plain": [
       "<Figure size 1440x720 with 1 Axes>"
      ]
     },
     "metadata": {},
     "output_type": "display_data"
    }
   ],
   "source": [
    "# Salmonella Enterica GC skew polt\n",
    "#%matplotlib inline\n",
    "import matplotlib.pyplot as plt\n",
    "plt.style.use('seaborn-whitegrid')\n",
    "import numpy as np\n",
    "\n",
    "data = gc_skew(Text)\n",
    "x = range(0,len(data))\n",
    "\n",
    "plt.figure(figsize=(20,10))\n",
    "plt.plot(x, data)\n",
    "plt.show()\n"
   ]
  },
  {
   "cell_type": "markdown",
   "metadata": {},
   "source": [
    "## 1.7 CS: Generating the Neighborhood of a String\n",
    "\n",
    "Our goal is to generate the d-neighborhood Neighbors(Pattern, d), the set of all k-mers whose Hamming distance from Pattern does not exceed d. As a warm up, we will first generate the 1-neigborhood of Pattern using the following pseudocode.\n",
    "\n",
    "---\n",
    "```\n",
    " ImmediateNeighbors(Pattern)\n",
    "        Neighborhood ← the set consisting of single string Pattern\n",
    "        for i = 1 to |Pattern|\n",
    "            symbol ← i-th nucleotide of Pattern\n",
    "            for each nucleotide x different from symbol\n",
    "                Neighbor ← Pattern with the i-th nucleotide substituted by x\n",
    "                add Neighbor to Neighborhood\n",
    "        return Neighborhood\n",
    "```\n",
    "---"
   ]
  },
  {
   "cell_type": "markdown",
   "metadata": {},
   "source": [
    "Now, consider a (k − 1)-mer Pattern’ belonging to Neighbors(Suffix(Pattern), d). By the definition of the d-neighborhood Neighbors(Suffix(Pattern), d), we know that HammingDistance(Pattern′, Suffix(Pattern)) is either equal to d or less than d. In the first case, we can add FirstSymbol(Pattern) to the beginning of Pattern’ in order to obtain a k-mer belonging to Neighbors(Pattern, d). In the second case, we can add any symbol to the beginning of Pattern’ and obtain a k-mer belonging to Neighbors(Pattern, d).\n",
    "\n",
    "For example, to generate Neighbors(CAA,1), first form Neighbors(AA,1) = {AA, CA, GA, TA, AC, AG, AT}. The Hamming distance between AA and each of six of these neighbors is 1. Firstly, concatenating C with each of these patterns results in six patterns (CAA, CCA, CGA, CTA, CAC, CAG, CAT) that belong to Neighbors(CAA, 1). Secondly, concatenating any nucleotide with AA results in four patterns (AAA, CAA, GAA, and TAA) that belong to Neighbors(CAA, 1). Thus, Neighbors(CAA, 1) comprises ten patterns."
   ]
  },
  {
   "cell_type": "code",
   "execution_count": 31,
   "metadata": {},
   "outputs": [],
   "source": [
    "def ImmediateNeighbors(pattern):\n",
    "    neighborhood = set()\n",
    "    for i in range(len(pattern)):\n",
    "        symbol = pattern[i]\n",
    "        for x in \"ACTG\":\n",
    "            if x != symbol:\n",
    "                neighbor = pattern[:i] + x + pattern[i+1:]\n",
    "                neighborhood.add(neighbor)\n",
    "    return neighborhood"
   ]
  },
  {
   "cell_type": "code",
   "execution_count": 43,
   "metadata": {},
   "outputs": [
    {
     "name": "stdout",
     "output_type": "stream",
     "text": [
      "{'ATTC', 'CTGC', 'ATGA', 'AAGC', 'AGGC', 'ATGG', 'ACGC', 'ATGT', 'ATCC', 'GTGC', 'TTGC', 'ATAC'}\n"
     ]
    }
   ],
   "source": [
    "print(ImmediateNeighbors('ATGC'))"
   ]
  },
  {
   "cell_type": "markdown",
   "metadata": {},
   "source": [
    "## 1.7 CS: Generating the Neighborhood of a String\n",
    "\n",
    "In the following pseudocode, we use the notation symbol `*` Text to denote the concatenation of a character symbol and a string Text, e.g., A `*` GCATG = AGCATG.\n",
    "\n",
    "---\n",
    "```\n",
    "  Neighbors(Pattern, d)\n",
    "        if d = 0\n",
    "            return {Pattern}\n",
    "        if |Pattern| = 1 \n",
    "            return {A, C, G, T}\n",
    "        Neighborhood ← an empty set\n",
    "        SuffixNeighbors ← Neighbors(Suffix(Pattern), d)\n",
    "        for each string Text from SuffixNeighbors\n",
    "            if HammingDistance(Suffix(Pattern), Text) < d\n",
    "                for each nucleotide x\n",
    "                    add x • Text to Neighborhood\n",
    "            else\n",
    "                add FirstSymbol(Pattern) • Text to Neighborhood\n",
    "        return Neighborhood\n",
    "```\n",
    "---"
   ]
  },
  {
   "cell_type": "code",
   "execution_count": 6,
   "metadata": {},
   "outputs": [],
   "source": [
    "with open(\"data/dataset_3014_4.txt\", \"r\") as f:\n",
    "        Text = f.readline().strip()\n",
    "        d = int(f.readline().strip())\n",
    "\n",
    "def Neighbors(Pattern, d):\n",
    "    if d == 0:\n",
    "        return Pattern\n",
    "    if len(Pattern)==1:\n",
    "        return {\"A\", \"C\", \"G\", \"T\"}\n",
    "    Neighborhood = []\n",
    "    SuffixNeighbors = Neighbors(Pattern[1:], d)\n",
    "    for Text in SuffixNeighbors:\n",
    "        if HammingDistance(Pattern[1:], Text) < d:\n",
    "            for x in {\"A\", \"C\", \"G\", \"T\"}:\n",
    "                Neighborhood.append(x + Text)\n",
    "        else:\n",
    "            Neighborhood.append(Pattern[0] + Text)\n",
    "    return Neighborhood\n",
    "\n",
    "out = Neighbors(Text, d)\n",
    "with open('output/dataset_3014_4.txt', 'w') as output_data:\n",
    "    output_data.write(\"\\n\".join(out))"
   ]
  },
  {
   "cell_type": "code",
   "execution_count": 3,
   "metadata": {},
   "outputs": [
    {
     "name": "stdout",
     "output_type": "stream",
     "text": [
      "['CCT', 'GCT', 'TCT', 'AAT', 'AGT', 'ATT', 'ACA', 'ACC', 'ACG']\n"
     ]
    }
   ],
   "source": [
    "def neighbors(pattern, d,chars = \"ACGT\"):\n",
    "    assert(d <= len(pattern))\n",
    "\n",
    "    if d == 0:\n",
    "        return [pattern]\n",
    "\n",
    "    r2 = neighbors(pattern[1:], d-1)\n",
    "    r = [c + r3 for r3 in r2 for c in chars if c != pattern[0]]\n",
    "\n",
    "    if (d < len(pattern)):\n",
    "        r2 = neighbors(pattern[1:], d)\n",
    "        r += [pattern[0] + r3 for r3 in r2]\n",
    "\n",
    "    return r\n",
    "\n",
    "\n",
    "out = neighbors(\"ACT\", 1)\n",
    "print(out)\n",
    "\n",
    "with open('output/neihbors.txt', 'w') as output_data:\n",
    "    output_data.write(\"\\n\".join(out))"
   ]
  },
  {
   "cell_type": "code",
   "execution_count": null,
   "metadata": {},
   "outputs": [],
   "source": []
  }
 ],
 "metadata": {
  "interpreter": {
   "hash": "7dae6437c12b1d87f00e0e10a4bd22be66a3b8ec05fb1161d95372f28c39fa9e"
  },
  "kernelspec": {
   "display_name": "Python 3.8.8 64-bit ('base': conda)",
   "name": "python3"
  },
  "language_info": {
   "codemirror_mode": {
    "name": "ipython",
    "version": 3
   },
   "file_extension": ".py",
   "mimetype": "text/x-python",
   "name": "python",
   "nbconvert_exporter": "python",
   "pygments_lexer": "ipython3",
   "version": "3.8.8"
  },
  "orig_nbformat": 4
 },
 "nbformat": 4,
 "nbformat_minor": 2
}
