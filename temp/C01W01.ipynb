{
 "cells": [
  {
   "cell_type": "markdown",
   "metadata": {},
   "source": [
    "## 1.2 Hidden Messages in the Replication Origin"
   ]
  },
  {
   "cell_type": "markdown",
   "metadata": {},
   "source": [
    "Operating under the assumption that DNA is a language of its own, let's borrow Legrand's method and see if we can find any surprisingly frequent \"words\" within the ori of Vibrio cholerae. We have added reason to look for frequent words in the ori because for various biological processes, certain nucleotide strings often appear surprisingly often in small regions of the genome. This is often because certain proteins can only bind to DNA if a specific string of nucleotides is present, and if there are more occurrences of the string, then it is more likely that binding will successfully occur. (It is also less likely that a mutation will disrupt the binding process.)\n",
    "\n",
    "For example, ACTAT is a surprisingly frequent substring of ACAACTATGCATACTATCGGGAACTATCCT.\n",
    "\n",
    "**We will use the term k-mer to refer to a string of length k and define Count(Text, Pattern) as the number of times that a k-mer Pattern appears as a substring of Text. Following the above example**,\n",
    "\n",
    "`Count(ACAACTATGCATACTATCGGGAACTATCCT, ACTAT) = 3`.\n",
    "\n",
    "We note that Count(CGATATATCCATAG, ATA) is equal to 3 (not 2) since we should account for overlapping occurrences of Pattern in Text."
   ]
  },
  {
   "cell_type": "markdown",
   "metadata": {},
   "source": [
    "To compute Count(Text, Pattern), our plan is to “slide a window” down Text, checking whether each k-mer substring of Text matches Pattern. We will therefore refer to the k-mer starting at position i of Text as Text(i, k). Throughout this book, we will often use 0-based indexing, meaning that we count starting at 0 instead of 1. In this case, Text begins at position 0 and ends at position |Text| − 1 (|Text| denotes the number of symbols in Text). For example, if Text = GACCATACTG, then Text(4, 3) = ATA. Note that the last k-mer of Text begins at position |Text| − k, e.g., the last 3-mer of GACCATACTG starts at position 10 − 3 = 7. This discussion results in the following pseudocode for computing Count(Text, Pattern).\n",
    "\n",
    "```\n",
    "    PatternCount(Text, Pattern)\n",
    "        count ← 0\n",
    "        for i ← 0 to |Text| − |Pattern|\n",
    "            if Text(i, |Pattern|) = Pattern\n",
    "                count ← count + 1\n",
    "        return count\n",
    "```"
   ]
  },
  {
   "cell_type": "markdown",
   "metadata": {},
   "source": [
    "Code Challenge: Implement PatternCount (reproduced below).\n",
    "     Input: Strings Text and Pattern.\n",
    "     Output: Count(Text, Pattern).\n",
    "\n",
    "```\n",
    "PatternCount(Text, Pattern)\n",
    "  count ← 0\n",
    "  for i ← 0 to |Text| − |Pattern|\n",
    "    if Text(i, |Pattern|) = Pattern\n",
    "      count ← count + 1\n",
    "  return count\n",
    "````"
   ]
  },
  {
   "cell_type": "code",
   "execution_count": 23,
   "metadata": {},
   "outputs": [],
   "source": [
    "with open (\"data/dataset_2_6.txt\") as input_file:\n",
    "    Text, Pattern = input_file.read().strip().split()\n",
    "\n",
    "def PatternCount(Text,Pattern):\n",
    "    count = 0\n",
    "    for i in range(len(Text) - len(Pattern)):\n",
    "        if Text[i:i+len(Pattern)] == Pattern:\n",
    "            count += 1\n",
    "    return count\n",
    "\n",
    "total_count = PatternCount(Text,Pattern)\n",
    "\n",
    "with open('output/dataset_2_6.txt', 'w') as output_data:\n",
    "    output_data.write(str(total_count))"
   ]
  },
  {
   "cell_type": "markdown",
   "metadata": {},
   "source": [
    "## The Frequent Words Problem\n",
    "\n",
    "We say that Pattern is a most frequent k-mer in Text if it maximizes Count(Text, Pattern) among all k-mers. You can see that `ACTAT` is a most frequent 5-mer of `ACAACTATGCATACTATCGGGAACTATCCT`, and `ATA` is a most frequent 3-mer of CGATATATCCATAG.\n",
    "\n",
    "STOP and Think: Can a string have multiple most frequent k-mers?\n",
    "\n",
    "We now have a rigorously defined computational problem.\n",
    "\n",
    "Frequent Words Problem: Find the most frequent k-mers in a string.\n",
    "\n",
    "Input: A string Text and an integer k.\n",
    "Output: All most frequent k-mers in Text."
   ]
  },
  {
   "cell_type": "markdown",
   "metadata": {},
   "source": [
    " A straightforward algorithm for finding the most frequent k-mers in a string Text checks all k-mers appearing in this string (there are |Text| − k + 1 such k-mers) and then computes how many times each k-mer appears in Text. To implement this algorithm, called FrequentWords, we will need to generate an array Count, where Count(i) stores Count(Text, Pattern) for Pattern = Text(i, k) (see figure below).\n",
    "\n",
    "The pseudocode for FrequentWords is shown below.\n",
    "\n",
    "```\n",
    "FrequentWords(Text, k)\n",
    "    FrequentPatterns ← an empty set\n",
    "    for i ← 0 to |Text| − k\n",
    "        Pattern ← the k-mer Text(i, k)\n",
    "        Count(i) ← PatternCount(Text, Pattern)\n",
    "    maxCount ← maximum value in array Count\n",
    "    for i ← 0 to |Text| − k\n",
    "        if Count(i) = maxCount\n",
    "            add Text(i, k) to FrequentPatterns\n",
    "    remove duplicates from FrequentPatterns\n",
    "    return FrequentPatterns\n",
    "```\n",
    "\n",
    "A Faster Frequent Words Approach:\n",
    "If you were to solve the Frequent Words Problem by hand for a small example, you would probably form a table like the one in the figure below for Text equal to \"ACGTTTCACGTTTTACGG\" and k equal to 3. You would slide a length-k window Text, and if the current k-mer substring of text does not occur in the table, then you would create a new entry for it. Otherwise, you would add 1 to the entry corresponding to the current k-mer substring of Text. We call this table the frequency table for Text and k.\n",
    "\n",
    "```\n",
    "FrequencyTable(Text, k)\n",
    "    freqMap ← empty map\n",
    "    n ← |Text|\n",
    "    for i ← 0 to n − k\n",
    "        Pattern ← Text(i, k)\n",
    "        if freqMap[Pattern] doesn't exist\n",
    "            freqMap[Pattern]← 1\n",
    "        else\n",
    "           freqMap[pattern] ←freqMap[pattern]+1 \n",
    "    return freqMap\n",
    "```\n"
   ]
  },
  {
   "cell_type": "code",
   "execution_count": 30,
   "metadata": {},
   "outputs": [
    {
     "data": {
      "text/plain": [
       "{'ACGT': 1,\n",
       " 'CGTT': 1,\n",
       " 'GTTG': 1,\n",
       " 'TTGC': 1,\n",
       " 'TGCA': 2,\n",
       " 'GCAT': 3,\n",
       " 'CATG': 3,\n",
       " 'ATGT': 1,\n",
       " 'TGTC': 1,\n",
       " 'GTCG': 1,\n",
       " 'TCGC': 1,\n",
       " 'CGCA': 1,\n",
       " 'ATGA': 2,\n",
       " 'TGAT': 1,\n",
       " 'GATG': 1,\n",
       " 'ATGC': 1,\n",
       " 'TGAG': 1,\n",
       " 'GAGA': 1,\n",
       " 'AGAG': 1,\n",
       " 'GAGC': 1}"
      ]
     },
     "execution_count": 30,
     "metadata": {},
     "output_type": "execute_result"
    }
   ],
   "source": [
    "def FrequencyTable(Text,k):\n",
    "    freqMap = {}\n",
    "    n = len(Text)\n",
    "    for i in range(n-k):\n",
    "        Pattern = Text[i:i+k]\n",
    "        if Pattern not in freqMap:\n",
    "            freqMap[Pattern] = 1\n",
    "        else:\n",
    "            freqMap[Pattern] += 1\n",
    "    return freqMap\n",
    "\n",
    "FrequencyTable('ACGTTGCATGTCGCATGATGCATGAGAGCT',4)"
   ]
  },
  {
   "cell_type": "markdown",
   "metadata": {},
   "source": [
    "Once we have built the frequency table for a given Text and k, we can find all frequent k-mers if we determine the maximum value in the table, and then identify the keys of the frequency table achieving this value, appending each one that we find to a growing list. We are now ready to write a function BetterFrequentWords to solve the Frequent Words Problem.  This function relies on a function MaxMap that takes a map of strings to integers as an input and returns the maximum value of this map as output. \n",
    "```\n",
    "BetterFrequentWords(Text, k)\n",
    "    FrequentPatterns ← an array of strings of length 0\n",
    "    freqMap ← FrequencyTable(Text, k)\n",
    "    max ← MaxMap(freqMap)\n",
    "    for all strings Pattern in freqMap\n",
    "        if freqMap[pattern] = max\n",
    "            append Pattern to frequentPatterns\n",
    "    return frequentPatterns\n",
    "```"
   ]
  },
  {
   "cell_type": "code",
   "execution_count": 51,
   "metadata": {},
   "outputs": [
    {
     "name": "stdout",
     "output_type": "stream",
     "text": [
      "TGAATCTGTGAAT GAATCTGTGAATC AATCTGTGAATCT ATCTGTGAATCTG \n"
     ]
    }
   ],
   "source": [
    "with open (\"data/dataset_2_13.txt\") as input_file:\n",
    "    Text, k = input_file.read().strip().split()\n",
    "k = int(k)\n",
    "\n",
    "def BetterFrequentWords(Text,k):\n",
    "    FrequentPatterns = \"\"\n",
    "    freqMap = FrequencyTable(Text, k)\n",
    "    maxMap = max(freqMap.values())\n",
    "    for Pattern in freqMap:\n",
    "        if freqMap[Pattern] == maxMap:\n",
    "            FrequentPatterns += Pattern + \" \"\n",
    "    return FrequentPatterns\n",
    "\n",
    "FrequentPatterns = BetterFrequentWords(Text,k)\n",
    "print(FrequentPatterns)\n",
    "with open('output/dataset_2_13.txt', 'w') as output_data:\n",
    "    output_data.write((FrequentPatterns))"
   ]
  },
  {
   "cell_type": "code",
   "execution_count": null,
   "metadata": {},
   "outputs": [],
   "source": [
    "with open (\"data/Vibrio_cholerae.txt\") as input_file:\n",
    "    Text = input_file.read().strip()\n",
    "    k = 2\n",
    "print(Text)\n",
    "\n",
    "FrequentPatterns = BetterFrequentWords(Text,k)\n",
    "print(FrequentPatterns)\n",
    "with open('output/Vibrio_cholerae.txt', 'w') as output_data:\n",
    "    output_data.write((FrequentPatterns))"
   ]
  },
  {
   "cell_type": "code",
   "execution_count": null,
   "metadata": {},
   "outputs": [],
   "source": []
  },
  {
   "cell_type": "code",
   "execution_count": null,
   "metadata": {},
   "outputs": [],
   "source": []
  },
  {
   "cell_type": "code",
   "execution_count": null,
   "metadata": {},
   "outputs": [],
   "source": []
  },
  {
   "cell_type": "code",
   "execution_count": null,
   "metadata": {},
   "outputs": [],
   "source": []
  },
  {
   "cell_type": "code",
   "execution_count": null,
   "metadata": {},
   "outputs": [],
   "source": []
  },
  {
   "cell_type": "code",
   "execution_count": null,
   "metadata": {},
   "outputs": [],
   "source": []
  }
 ],
 "metadata": {
  "interpreter": {
   "hash": "7dae6437c12b1d87f00e0e10a4bd22be66a3b8ec05fb1161d95372f28c39fa9e"
  },
  "kernelspec": {
   "display_name": "Python 3.8.8 64-bit ('base': conda)",
   "name": "python3"
  },
  "language_info": {
   "codemirror_mode": {
    "name": "ipython",
    "version": 3
   },
   "file_extension": ".py",
   "mimetype": "text/x-python",
   "name": "python",
   "nbconvert_exporter": "python",
   "pygments_lexer": "ipython3",
   "version": "3.8.8"
  },
  "orig_nbformat": 4
 },
 "nbformat": 4,
 "nbformat_minor": 2
}
