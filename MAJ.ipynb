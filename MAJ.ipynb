{
 "cells": [
  {
   "cell_type": "markdown",
   "metadata": {},
   "source": [
    "# 05: MAJ - Majority Element\n",
    "\n",
    "It is not difficult to develop a divide-and-conquer algorithm checking whether a given array of size n contains a majority element in O(nlogn) time. It is interesting to note that there is also a linear time algorithm and it is also based on `divide-and-conquer`."
   ]
  },
  {
   "cell_type": "markdown",
   "metadata": {},
   "source": [
    "### Problem\n",
    "\n",
    "An array A[1..n] is said to have a majority element if more than half of its entries are the same.\n",
    "\n",
    "- Given:A positive integer k≤20, a positive integer n≤104, and k arrays of size n containing positive integers not exceeding 105.\n",
    "\n",
    "- Return: For each array, output an element of this array occurring strictly more than n/2 times if such element exists, and \"-1\" otherwise."
   ]
  },
  {
   "cell_type": "markdown",
   "metadata": {},
   "source": [
    "### Sample Dataset\n",
    "```\n",
    "4 8\n",
    "5 5 5 5 5 5 5 5\n",
    "8 7 7 7 1 7 3 7\n",
    "7 1 6 5 10 100 1000 1\n",
    "5 1 6 7 1 1 10 1\n",
    "```\n",
    "\n",
    "### Sample Output\n",
    "```\n",
    "5 7 -1 -1\n",
    "```"
   ]
  },
  {
   "cell_type": "code",
   "execution_count": 5,
   "metadata": {},
   "outputs": [
    {
     "data": {
      "text/plain": [
       "3"
      ]
     },
     "execution_count": 5,
     "metadata": {},
     "output_type": "execute_result"
    }
   ],
   "source": [
    "# Solve in O(n*n) times\n",
    "\n",
    "def majorityElement(nums):\n",
    "    majority_count = len(nums)//2\n",
    "    for num in nums:\n",
    "        count = sum(1 for elem in nums if elem == num)\n",
    "        if count > majority_count:\n",
    "            return num\n",
    "    return -1\n"
   ]
  },
  {
   "cell_type": "code",
   "execution_count": 17,
   "metadata": {},
   "outputs": [],
   "source": [
    "with open('data/rosalind_maj.txt') as fh:\n",
    "    n, m = fh.readline().strip().split(\" \")\n",
    "    arraylist = []\n",
    "    for line in fh:\n",
    "        A = list(map(int, line.strip().split()))\n",
    "        arraylist.append(A)\n",
    "\n",
    "# Divide and Conquire algorithm takes O(nlogn)\n",
    "def majorityElement(nums):\n",
    "    if len(nums) == 0:\n",
    "        return -1\n",
    "    if len(nums) == 1:\n",
    "        return nums[0]\n",
    "    \n",
    "    half = len(nums) // 2\n",
    "    left, right = majorityElement(nums[0:half]), majorityElement(nums[half:])\n",
    "\n",
    "    if left == right:\n",
    "        return left\n",
    "    if nums.count(left) > half:\n",
    "        return left\n",
    "    if nums.count(right) > half:\n",
    "        return right\n",
    "    return -1 \n",
    "\n",
    "array = [majorityElement(elements) for elements in arraylist]\n",
    "\n",
    "\n",
    "with open('out/rosalind_maj.txt', 'w') as fh:\n",
    "        array = [str(element) for element in array]\n",
    "        fh.write(' '.join(array))"
   ]
  },
  {
   "cell_type": "code",
   "execution_count": null,
   "metadata": {},
   "outputs": [],
   "source": []
  }
 ],
 "metadata": {
  "interpreter": {
   "hash": "779d32e33bbdd4b0f11414551ecd4e05fdefdab11a22ed998b2665b85200c83e"
  },
  "kernelspec": {
   "display_name": "Python 3.9.7 ('base')",
   "language": "python",
   "name": "python3"
  },
  "language_info": {
   "codemirror_mode": {
    "name": "ipython",
    "version": 3
   },
   "file_extension": ".py",
   "mimetype": "text/x-python",
   "name": "python",
   "nbconvert_exporter": "python",
   "pygments_lexer": "ipython3",
   "version": "3.9.7"
  },
  "orig_nbformat": 4
 },
 "nbformat": 4,
 "nbformat_minor": 2
}
