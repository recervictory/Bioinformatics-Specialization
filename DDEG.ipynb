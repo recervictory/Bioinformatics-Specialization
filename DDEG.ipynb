{
 "cells": [
  {
   "cell_type": "markdown",
   "metadata": {},
   "source": [
    "# 03: DDEG - Double-Degree Array"
   ]
  },
  {
   "cell_type": "markdown",
   "metadata": {},
   "source": [
    "### Problem\n",
    "\n",
    "In an undirected graph, the degree d(u) of a vertex u is the number of neighbors u has, or equivalently, the number of edges incident upon it.\n",
    "\n",
    "- Given: A simple graph with n≤103 vertices in the edge list format.\n",
    "- Return: An array D[1..n] where D[i] is the sum of the degrees of i's neighbors.\n",
    "\n",
    "\n",
    "#### Simple Graph: \n",
    "As opposed to a multigraph, a simple graph is an undirected graph that has no loops and no more than one edge between any two different vertices. In a simple graph the edges of the graph form a set (rather than a multiset) and each edge is a distinct pair of vertices. In a simple graph with n vertices every vertex has a degree that is less than n (the converse, however, is not true — there exist non-simple graphs with n vertices in which every vertex has a degree smaller than n).\n",
    "\n",
    "####  Edge List Format\n",
    "\n",
    "The first line contains two numbers, the number of vertices n and the number of edges m, each of the following m lines contains an edge given by two vertices. The format can be used to specify directed and undirected graphs as well as weighted and unweighted graphs.\n",
    "\n",
    "![Graph](resources/ddeg.png)\n",
    "\n",
    "```\n",
    "5 4\n",
    "1 2\n",
    "2 3\n",
    "4 3\n",
    "2 4\n",
    "```\n"
   ]
  },
  {
   "cell_type": "markdown",
   "metadata": {},
   "source": [
    "### Sample Dataset\n",
    "```\n",
    "5 4\n",
    "1 2\n",
    "2 3\n",
    "4 3\n",
    "2 4\n",
    "```\n",
    "\n",
    "### Sample Output\n",
    "```\n",
    "3 5 5 5 0\n",
    "```"
   ]
  },
  {
   "cell_type": "code",
   "execution_count": 8,
   "metadata": {},
   "outputs": [],
   "source": [
    "\n",
    "with open('data/rosalind_ddeg.txt') as fh:\n",
    "    vertices, edges = fh.readline().strip().split(\" \")\n",
    "    edgelists = [tuple(line.strip().split(\" \")) for line in fh]\n",
    "\n",
    "\n",
    "def neighbors_nodes(edgelists, vertices):\n",
    "    neighbors = {}\n",
    "    for i in range(int(vertices)):\n",
    "        vertice = str(i+1)\n",
    "        neighbors[vertice] = [edge for edgetuple in edgelists for edge in edgetuple if vertice in edgetuple and vertice != edge]\n",
    "    return neighbors\n",
    "\n",
    "def sumOfNeighbors(edgelists, vertices):\n",
    "    nodes_neighbors = neighbors_nodes(edgelists, vertices)\n",
    "    sum_of_neighbors = []\n",
    "    for i in range(int(vertices)):\n",
    "        vertice = str(i+1)\n",
    "        sum_of_neighbors.append(sum([len(nodes_neighbors[v]) for v in nodes_neighbors[vertice]]))\n",
    "    return sum_of_neighbors\n",
    "\n",
    "array = sumOfNeighbors(edgelists, vertices)\n",
    "\n",
    "with open('out/rosalind_ddeg.txt', 'w') as fh:\n",
    "        array = [str(element) for element in array]\n",
    "        fh.write(' '.join(array))"
   ]
  }
 ],
 "metadata": {
  "interpreter": {
   "hash": "779d32e33bbdd4b0f11414551ecd4e05fdefdab11a22ed998b2665b85200c83e"
  },
  "kernelspec": {
   "display_name": "Python 3.9.7 ('base')",
   "language": "python",
   "name": "python3"
  },
  "language_info": {
   "codemirror_mode": {
    "name": "ipython",
    "version": 3
   },
   "file_extension": ".py",
   "mimetype": "text/x-python",
   "name": "python",
   "nbconvert_exporter": "python",
   "pygments_lexer": "ipython3",
   "version": "3.9.7"
  },
  "orig_nbformat": 4
 },
 "nbformat": 4,
 "nbformat_minor": 2
}
