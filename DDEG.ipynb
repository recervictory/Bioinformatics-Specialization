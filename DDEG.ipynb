{
 "cells": [
  {
   "cell_type": "markdown",
   "metadata": {},
   "source": [
    "# 03: Edit Distance"
   ]
  },
  {
   "cell_type": "markdown",
   "metadata": {},
   "source": [
    "### Problem\n",
    "\n",
    "Given two strings s and t (of possibly different lengths), the edit distance dE(s,t) is the minimum number of edit operations needed to transform s into t, where an edit operation is defined as the substitution, insertion, or deletion of a single symbol.\n",
    "\n",
    "The latter two operations incorporate the case in which a contiguous interval is inserted into or deleted from a string; such an interval is called a gap. For the purposes of this problem, the insertion or deletion of a gap of length k still counts as k distinct edit operations.\n",
    "\n",
    "- Given: Two protein strings s and t in FASTA format (each of length at most 1000 aa).\n",
    "- Return: The edit distance dE(s,t).\n"
   ]
  },
  {
   "cell_type": "markdown",
   "metadata": {},
   "source": [
    "### Sample Dataset\n",
    "```\n",
    ">Rosalind_39\n",
    "PLEASANTLY\n",
    ">Rosalind_11\n",
    "MEANLY\n",
    "```\n",
    "\n",
    "### Sample Output\n",
    "```\n",
    "5\n",
    "```"
   ]
  },
  {
   "cell_type": "code",
   "execution_count": 8,
   "metadata": {},
   "outputs": [],
   "source": [
    "\n",
    "seq1, seq2 = open('rosalind_edit.txt').read().split()\n",
    "\n",
    "def edit_distance(seq1, seq2): # Wagner-Fischer algorithm\n",
    "    cur = list(range(len(seq1)+1))\n",
    "    for j, s in enumerate(seq2):\n",
    "        last, cur = cur, [j+1] \n",
    "        for i, t in enumerate(seq1):\n",
    "            cur.append(last[i] if s==t else min([last[i+1], last[i], cur[-1]]) + 1)\n",
    "    return cur[-1]\n",
    "\n",
    "print(edit_distance(seq1,seq2))\n",
    "\n",
    "with open('out/rosalind_ddeg.txt', 'w') as fh:\n",
    "        array = [str(element) for element in array]\n",
    "        fh.write(' '.join(array))"
   ]
  }
 ],
 "metadata": {
  "interpreter": {
   "hash": "779d32e33bbdd4b0f11414551ecd4e05fdefdab11a22ed998b2665b85200c83e"
  },
  "kernelspec": {
   "display_name": "Python 3.9.7 ('base')",
   "language": "python",
   "name": "python3"
  },
  "language_info": {
   "codemirror_mode": {
    "name": "ipython",
    "version": 3
   },
   "file_extension": ".py",
   "mimetype": "text/x-python",
   "name": "python",
   "nbconvert_exporter": "python",
   "pygments_lexer": "ipython3",
   "version": "3.9.7"
  },
  "orig_nbformat": 4
 },
 "nbformat": 4,
 "nbformat_minor": 2
}
