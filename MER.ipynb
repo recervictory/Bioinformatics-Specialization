{
 "cells": [
  {
   "cell_type": "markdown",
   "metadata": {},
   "source": [
    "# 06: MER - Merge Two Sorted Arrays\n",
    "\n",
    "The very first element of C is either A[1] or B[1], whichever is smaller. The rest of C can then be constructed recursively."
   ]
  },
  {
   "cell_type": "markdown",
   "metadata": {},
   "source": [
    "### Problem\n",
    "\n",
    "The problem is to find a given set of keys in a given array.\n",
    "\n",
    "- Given: A positive integer n≤105 and a sorted array A[1..n] of integers from −105 to 105, a positive integer m≤105 and a sorted array B[1..m] of integers from −105 to 105.\n",
    "\n",
    "- Return: A sorted array C[1..n+m] containing all the elements of A and B."
   ]
  },
  {
   "cell_type": "markdown",
   "metadata": {},
   "source": [
    "### Sample Dataset\n",
    "```\n",
    "4\n",
    "2 4 10 18\n",
    "3\n",
    "-5 11 12\n",
    "```\n",
    "\n",
    "### Sample Output\n",
    "```\n",
    "4 1 -1 -1 4 2\n",
    "```"
   ]
  },
  {
   "cell_type": "code",
   "execution_count": 12,
   "metadata": {},
   "outputs": [],
   "source": [
    "\n",
    "def mergeSorted(left, right):\n",
    "    if left and right:\n",
    "        if left[0] > right[0]:\n",
    "            #print(left,right)\n",
    "            left, right = right, left\n",
    "        return [left[0]] + mergeSorted(left[1:], right)\n",
    "    return left + right\n",
    "\n",
    "# Using Recursive \n",
    "\n",
    "def mergeSorted(left, right):\n",
    "    if len(left) == 0: return right\n",
    "    if len(right) == 0: return left\n",
    "    if left[0] <= right[0]:\n",
    "        return [left[0]] + mergeSorted(left[1:], right)\n",
    "    else:\n",
    "        return [right[0]] + mergeSorted(left, right[1\n"
   ]
  },
  {
   "cell_type": "code",
   "execution_count": 31,
   "metadata": {},
   "outputs": [],
   "source": [
    "with open('data/rosalind_mer.txt') as fh:\n",
    "    l = int(fh.readline().strip())\n",
    "    left = list(map(int, fh.readline().strip().split()))\n",
    "    r = int(fh.readline().strip())\n",
    "    right = list(map(int, fh.readline().strip().split()))\n",
    "\n",
    "# Iterative mering\n",
    "def mergeSorted(left, right):\n",
    "    combine = []\n",
    "    i, j = 0, 0\n",
    "    while i < len(left) and j < len(right):\n",
    "        if left[i] <= right[j]:\n",
    "            combine.append(left[i])\n",
    "            i += 1\n",
    "        else:\n",
    "            combine.append(right[j])\n",
    "            j += 1\n",
    "    combine += left[i:]\n",
    "    combine += right[j:]\n",
    "    return combine\n",
    "\n",
    "# Using list as deque\n",
    "def mergeSorted(left, right):\n",
    "    combine = []\n",
    "    while left and right:\n",
    "        if left[0] < right[0]:\n",
    "            combine.append(left.pop(0))\n",
    "        else:\n",
    "            combine.append(right.pop(0))\n",
    "    combine += left + right\n",
    "    return combine\n",
    "\n",
    "array = mergeSorted(left, right)\n",
    "\n",
    "with open('out/rosalind_mer.txt', 'w') as fh:\n",
    "        array = [str(element) for element in array]\n",
    "        fh.write(' '.join(array))"
   ]
  }
 ],
 "metadata": {
  "interpreter": {
   "hash": "779d32e33bbdd4b0f11414551ecd4e05fdefdab11a22ed998b2665b85200c83e"
  },
  "kernelspec": {
   "display_name": "Python 3.9.7 ('base')",
   "language": "python",
   "name": "python3"
  },
  "language_info": {
   "codemirror_mode": {
    "name": "ipython",
    "version": 3
   },
   "file_extension": ".py",
   "mimetype": "text/x-python",
   "name": "python",
   "nbconvert_exporter": "python",
   "pygments_lexer": "ipython3",
   "version": "3.9.7"
  },
  "orig_nbformat": 4
 },
 "nbformat": 4,
 "nbformat_minor": 2
}
