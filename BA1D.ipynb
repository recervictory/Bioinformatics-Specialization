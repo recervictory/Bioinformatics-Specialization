{
 "cells": [
  {
   "cell_type": "markdown",
   "metadata": {},
   "source": [
    "# 01: BA1D - Find All Occurrences of a Pattern in a String"
   ]
  },
  {
   "cell_type": "markdown",
   "metadata": {},
   "source": [
    "In this problem, we ask a simple question: how many times can one string occur as a substring of another? Recall from “`Find the Most Frequent Words in a String`” that different occurrences of a substring can overlap with each other. For example, `ATA` occurs three times in `CGATATATCCATAG`.\n"
   ]
  },
  {
   "cell_type": "markdown",
   "metadata": {},
   "source": [
    "## Problem Description"
   ]
  },
  {
   "cell_type": "markdown",
   "metadata": {},
   "source": [
    "### Pattern Matching Problem\n",
    "Find all occurrences of a pattern in a string.\n",
    "\n",
    "**Given**: Strings Pattern and Genome.\n",
    "**Return**: All starting positions in Genome where Pattern appears as a substring. Use 0-based indexing.\n",
    "\n",
    "#### Sample Dataset\n",
    "\n",
    "```\n",
    "ATAT\n",
    "GATATATGCATATACTT\n",
    "```\n",
    "#### Sample Output\n",
    "```\n",
    "1 3 9\n",
    "```\n"
   ]
  },
  {
   "cell_type": "markdown",
   "metadata": {},
   "source": [
    "## Solution\n"
   ]
  },
  {
   "cell_type": "code",
   "execution_count": 5,
   "metadata": {},
   "outputs": [
    {
     "name": "stdout",
     "output_type": "stream",
     "text": [
      "68 83 90 107 160 190 197 204 258 314 332 339 354 377 401 420 454 531 538 553 597 624 651 660 708 733 771 802 809 818 825 893 971 978 1002 1029 1055 1073 1080 1087 1115 1158 1185 1214 1221 1228 1370 1416 1443 1538 1585 1643 1650 1657 1674 1720 1731 1777 1787 1822 1838 1873 1890 1897 1933 1940 1999 2006 2051 2058 2073 2173 2180 2200 2343 2472 2479 2486 2530 2550 2605 2658 2748 2917 2932 2963 2970 3001 3008 3015 3041 3059 3085 3092 3178 3229 3254 3261 3279 3297 3342 3349 3389 3471 3486 3503 3580 3595 3665 3696 3790 3816 3896 3903 3910 3947 3966 3977 4000 4015 4047 4087 4111 4127 4212 4314 4329 4336 4351 4358 4396 4455 4480 4545 4570 4585 4650 4710 4717 4746 4766 4789 4796 4834 4907 4996 5106 5113 5120 5236 5278 5354 5361 5376 5396 5434 5441 5479 5486 5558 5662 5778 5785 5792 5822 5839 5862 5893 5926 5962 5996 6059 6066 6118 6125 6205 6212 6310 6349 6356 6363 6440 6447 6454 6481 6488 6513 6546 6607 6642 6649 6704 6711 6718 6778 6823 6882 6929 6945 6975 7029 7047 7084 7103 7118 7144 7151 7176 7183 7229 7321 7375 7463 7493 7672 7758 7825 7844 7851 7885 7902 8008 8058 8087 8145 8271 8296 8376 8409 8430 8467 8504 8568 8575 8591 8625 8651 8667 8682 8704 8711 8783 8815 8836 8843 8858 8928 8935 8969 9140 9203 9247 9306 9381 9388\n"
     ]
    }
   ],
   "source": [
    "with open (\"data/rosalind_ba1d.txt\") as input_file:\n",
    "    Pattern, Text = input_file.read().strip().split()\n",
    "\n",
    "def PatternMatching(Text,Pattern):\n",
    "    position = \"\"\n",
    "    for i in range(len(Text) - len(Pattern)+ 1):\n",
    "        if Text[i:i+len(Pattern)] == Pattern:\n",
    "            position += str(i) + \" \"\n",
    "    return position.strip()\n",
    "\n",
    "positions = PatternMatching(Text,Pattern)\n",
    "print(positions)\n",
    "\n",
    "with open('out/rosalind_ba1d.txt', 'w') as output_data:\n",
    "    output_data.write(positions)"
   ]
  }
 ],
 "metadata": {
  "interpreter": {
   "hash": "779d32e33bbdd4b0f11414551ecd4e05fdefdab11a22ed998b2665b85200c83e"
  },
  "kernelspec": {
   "display_name": "Python 3.9.7 ('base')",
   "language": "python",
   "name": "python3"
  },
  "language_info": {
   "codemirror_mode": {
    "name": "ipython",
    "version": 3
   },
   "file_extension": ".py",
   "mimetype": "text/x-python",
   "name": "python",
   "nbconvert_exporter": "python",
   "pygments_lexer": "ipython3",
   "version": "3.9.7"
  },
  "orig_nbformat": 4
 },
 "nbformat": 4,
 "nbformat_minor": 2
}
